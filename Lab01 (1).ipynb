{
  "nbformat": 4,
  "nbformat_minor": 0,
  "metadata": {
    "colab": {
      "provenance": []
    },
    "kernelspec": {
      "name": "python3",
      "display_name": "Python 3"
    },
    "language_info": {
      "name": "python"
    }
  },
  "cells": [
    {
      "cell_type": "code",
      "source": [
        "Course = 'CSCI1020: Introduction to Computer Science'\n",
        "\n",
        "Subject = 'Bioinformatics'\n",
        "\n",
        "Course_name = Course + ': ' + Subject\n",
        "\n",
        "print(\"Course_name: \", Course_name)"
      ],
      "metadata": {
        "colab": {
          "base_uri": "https://localhost:8080/"
        },
        "id": "Hq45l8sChkui",
        "outputId": "2bb78132-3fb4-4cc6-e71e-8873c6e08497"
      },
      "execution_count": null,
      "outputs": [
        {
          "output_type": "stream",
          "name": "stdout",
          "text": [
            "Course_name:  CSCI1020: Introduction to Computer Science: Bioinformatics\n"
          ]
        }
      ]
    },
    {
      "cell_type": "markdown",
      "source": [],
      "metadata": {
        "id": "UJVM2ClV6qZl"
      }
    }
  ]
}